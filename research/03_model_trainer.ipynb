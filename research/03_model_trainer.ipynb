{
 "cells": [
  {
   "cell_type": "code",
   "execution_count": 1,
   "metadata": {},
   "outputs": [
    {
     "name": "stdout",
     "output_type": "stream",
     "text": [
      "e:\\code\\projects\\endtoend\n"
     ]
    },
    {
     "name": "stderr",
     "output_type": "stream",
     "text": [
      "c:\\Users\\priya\\anaconda3\\envs\\cnncancer\\lib\\site-packages\\IPython\\core\\magics\\osm.py:417: UserWarning: using dhist requires you to install the `pickleshare` library.\n",
      "  self.shell.db['dhist'] = compress_dhist(dhist)[-100:]\n"
     ]
    },
    {
     "data": {
      "text/plain": [
       "'e:\\\\code\\\\projects\\\\endtoend'"
      ]
     },
     "execution_count": 1,
     "metadata": {},
     "output_type": "execute_result"
    }
   ],
   "source": [
    "import os\n",
    "%cd ..\n",
    "%pwd"
   ]
  },
  {
   "cell_type": "code",
   "execution_count": 55,
   "metadata": {},
   "outputs": [],
   "source": [
    "from dataclasses import dataclass\n",
    "from pathlib import Path\n",
    "\n",
    "@dataclass(frozen=True)\n",
    "class TrainingConfig:\n",
    "    root_dir: Path \n",
    "    trained_model_path: Path\n",
    "    updated_base_model_path: Path\n",
    "    training_data: Path\n",
    "    valid_data: Path\n",
    "    params_epochs: int\n",
    "    params_batch_size: int\n",
    "    params_is_augmentated: bool\n",
    "    params_image_size: int"
   ]
  },
  {
   "cell_type": "code",
   "execution_count": 56,
   "metadata": {},
   "outputs": [],
   "source": [
    "\n",
    "from cnnClassifier.constants import *\n",
    "from cnnClassifier.utils.common import read_yaml, create_directories"
   ]
  },
  {
   "cell_type": "code",
   "execution_count": 57,
   "metadata": {},
   "outputs": [],
   "source": [
    "class ConfigurationManager:\n",
    "    def __init__(\n",
    "        self,\n",
    "        config_filepath = CONFIG_FILE_PATH,\n",
    "        params_filepath = PARAMS_FILE_PATH):\n",
    "\n",
    "        self.config = read_yaml(config_filepath)\n",
    "        self.params = read_yaml(params_filepath)\n",
    "\n",
    "        create_directories([self.config.artifacts_root])\n",
    "\n",
    "\n",
    "    def get_training_config(self) -> TrainingConfig:\n",
    "        config = self.config.training\n",
    "        prepare_base_model = self.config.prepare_base_model\n",
    "        params = self.params\n",
    "        training_data = os.path.join(self.config.data_ingestion.unzip_dir, 'Data/train')\n",
    "        valid_data = os.path.join(self.config.data_ingestion.unzip_dir, 'Data/valid')\n",
    "        create_directories([config.root_dir])\n",
    "\n",
    "        return TrainingConfig(\n",
    "            root_dir=Path(config.root_dir),\n",
    "            trained_model_path=Path(config.trained_model_path),\n",
    "            updated_base_model_path=Path(prepare_base_model.updated_base_model_path),\n",
    "            training_data=Path(training_data),\n",
    "            valid_data=Path(valid_data),\n",
    "            params_epochs=params.EPOCHS,\n",
    "            params_batch_size=params.BATCH_SIZE,\n",
    "            params_is_augmentated=params.AUGMENTATION,\n",
    "            params_image_size=params.IMAGE_SIZE\n",
    "        )"
   ]
  },
  {
   "cell_type": "code",
   "execution_count": 58,
   "metadata": {},
   "outputs": [],
   "source": [
    "import tensorflow as tf"
   ]
  },
  {
   "cell_type": "code",
   "execution_count": 64,
   "metadata": {},
   "outputs": [],
   "source": [
    "class Training:\n",
    "    def __init__(self, config: TrainingConfig):\n",
    "        self.config = config\n",
    "    \n",
    "    def get_base_model(self):\n",
    "        self.model = tf.keras.models.load_model(self.config.updated_base_model_path)\n",
    "\n",
    "    def train_valid_generator(self):\n",
    "        \n",
    "        train_datagen = tf.keras.preprocessing.image.ImageDataGenerator(\n",
    "            rescale=1./255,\n",
    "            rotation_range=20,\n",
    "            width_shift_range=0.2,\n",
    "            height_shift_range=0.2,\n",
    "            horizontal_flip=True,\n",
    "            shear_range=0.2,\n",
    "            zoom_range=0.2,\n",
    "            fill_mode='nearest'\n",
    "        )\n",
    "\n",
    "        valid_datagen = tf.keras.preprocessing.image.ImageDataGenerator(\n",
    "            rescale=1./255\n",
    "        )\n",
    "\n",
    "        self.valid_generator = valid_datagen.flow_from_directory(\n",
    "            self.config.valid_data,\n",
    "            target_size=self.config.params_image_size[:-1],\n",
    "            batch_size=self.config.params_batch_size,\n",
    "        )\n",
    "\n",
    "        self.train_generator = train_datagen.flow_from_directory(\n",
    "            self.config.training_data,\n",
    "            target_size=self.config.params_image_size[:-1],\n",
    "            batch_size=self.config.params_batch_size,\n",
    "        )\n",
    "    \n",
    "\n",
    "    @staticmethod\n",
    "    def save_model(path: Path, model: tf.keras.Model):\n",
    "        model.save(path)\n",
    "    \n",
    "    def train(self):\n",
    "        self.steps_per_epoch = self.train_generator.samples // self.train_generator.batch_size\n",
    "        self.validation_steps = self.valid_generator.samples // self.valid_generator.batch_size\n",
    "\n",
    "        self.model.fit(\n",
    "            self.train_generator,\n",
    "            epochs=self.config.params_epochs,\n",
    "            steps_per_epoch=self.steps_per_epoch,\n",
    "            validation_data=self.valid_generator,\n",
    "            validation_steps=self.validation_steps\n",
    "        )\n",
    "\n",
    "        self.save_model(self.config.trained_model_path, self.model)"
   ]
  },
  {
   "cell_type": "code",
   "execution_count": 65,
   "metadata": {},
   "outputs": [
    {
     "name": "stdout",
     "output_type": "stream",
     "text": [
      "[2024-02-13 00:41:04,208: INFO: common: yaml file: config\\config.yaml loaded successfully]\n",
      "[2024-02-13 00:41:04,212: INFO: common: yaml file: params.yaml loaded successfully]\n",
      "[2024-02-13 00:41:04,213: INFO: common: created directory at: artifacts]\n",
      "[2024-02-13 00:41:04,214: INFO: common: created directory at: artifacts/training]\n",
      "Found 72 images belonging to 4 classes.\n",
      "Found 613 images belonging to 4 classes.\n",
      "Epoch 1/15\n",
      "76/76 [==============================] - 23s 286ms/step - loss: 7.5721 - accuracy: 0.5372 - val_loss: 4.5076 - val_accuracy: 0.6389\n",
      "Epoch 2/15\n",
      "76/76 [==============================] - 20s 257ms/step - loss: 4.4671 - accuracy: 0.6777 - val_loss: 4.2027 - val_accuracy: 0.6806\n",
      "Epoch 3/15\n",
      "76/76 [==============================] - 21s 283ms/step - loss: 3.5675 - accuracy: 0.7107 - val_loss: 8.5478 - val_accuracy: 0.5417\n",
      "Epoch 4/15\n",
      "76/76 [==============================] - 21s 279ms/step - loss: 3.3546 - accuracy: 0.7603 - val_loss: 7.8651 - val_accuracy: 0.6667\n",
      "Epoch 5/15\n",
      "76/76 [==============================] - 22s 293ms/step - loss: 3.5623 - accuracy: 0.7355 - val_loss: 8.4575 - val_accuracy: 0.5833\n",
      "Epoch 6/15\n",
      "76/76 [==============================] - 18s 233ms/step - loss: 4.4292 - accuracy: 0.7273 - val_loss: 4.6837 - val_accuracy: 0.6806\n",
      "Epoch 7/15\n",
      "76/76 [==============================] - 22s 290ms/step - loss: 3.7337 - accuracy: 0.7719 - val_loss: 5.5485 - val_accuracy: 0.7083\n",
      "Epoch 8/15\n",
      "76/76 [==============================] - 20s 257ms/step - loss: 3.0547 - accuracy: 0.7967 - val_loss: 5.2043 - val_accuracy: 0.7222\n",
      "Epoch 9/15\n",
      "76/76 [==============================] - 19s 249ms/step - loss: 2.7797 - accuracy: 0.8231 - val_loss: 4.8018 - val_accuracy: 0.7361\n",
      "Epoch 10/15\n",
      "76/76 [==============================] - 20s 259ms/step - loss: 3.0808 - accuracy: 0.8182 - val_loss: 3.0597 - val_accuracy: 0.7500\n",
      "Epoch 11/15\n",
      "76/76 [==============================] - 19s 250ms/step - loss: 3.5599 - accuracy: 0.8116 - val_loss: 3.9861 - val_accuracy: 0.7639\n",
      "Epoch 12/15\n",
      "76/76 [==============================] - 19s 251ms/step - loss: 2.0679 - accuracy: 0.8562 - val_loss: 7.0695 - val_accuracy: 0.7361\n",
      "Epoch 13/15\n",
      "76/76 [==============================] - 19s 254ms/step - loss: 2.3194 - accuracy: 0.8463 - val_loss: 5.6636 - val_accuracy: 0.7361\n",
      "Epoch 14/15\n",
      "76/76 [==============================] - 19s 255ms/step - loss: 3.2543 - accuracy: 0.8165 - val_loss: 2.9249 - val_accuracy: 0.8056\n",
      "Epoch 15/15\n",
      "76/76 [==============================] - 20s 266ms/step - loss: 2.5445 - accuracy: 0.8446 - val_loss: 8.7928 - val_accuracy: 0.6667\n"
     ]
    }
   ],
   "source": [
    "try:\n",
    "    config = ConfigurationManager()\n",
    "    prepare_base_model_config = config.get_training_config()\n",
    "    training = Training(prepare_base_model_config)\n",
    "    training.get_base_model()\n",
    "    training.train_valid_generator()\n",
    "    training.train()\n",
    "except Exception as e:\n",
    "    raise e"
   ]
  },
  {
   "cell_type": "code",
   "execution_count": null,
   "metadata": {},
   "outputs": [],
   "source": []
  }
 ],
 "metadata": {
  "kernelspec": {
   "display_name": "cnncancer",
   "language": "python",
   "name": "python3"
  },
  "language_info": {
   "codemirror_mode": {
    "name": "ipython",
    "version": 3
   },
   "file_extension": ".py",
   "mimetype": "text/x-python",
   "name": "python",
   "nbconvert_exporter": "python",
   "pygments_lexer": "ipython3",
   "version": "3.9.0"
  }
 },
 "nbformat": 4,
 "nbformat_minor": 2
}
